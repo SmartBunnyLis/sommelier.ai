{
 "cells": [
  {
   "cell_type": "markdown",
   "metadata": {},
   "source": [
    "# sommelier.ai instructors messy idea notebook\n",
    "\n",
    "Start:\n",
    "- explain notebooks and show how variables live between cells\n",
    "- show how the last element is displayed and how ; suppresses theat\n",
    "- show shift-tab and ?\n",
    "- talk about the data journey and experimentation as core part of ML workflow\n",
    "\n",
    "Data exploration:\n",
    "- head, tail, loc, iloc, columns"
   ]
  },
  {
   "cell_type": "code",
   "execution_count": 1,
   "metadata": {},
   "outputs": [],
   "source": [
    "# These 'magics' alter the behavior of the Jupyter notebook\n",
    "# https://ipython.org/ipython-doc/3/config/extensions/autoreload.html\n",
    "%load_ext autoreload\n",
    "%autoreload 2"
   ]
  },
  {
   "cell_type": "code",
   "execution_count": 9,
   "metadata": {},
   "outputs": [],
   "source": [
    "import numpy as np\n",
    "import pandas as pd\n",
    "import matplotlib.pyplot as plt\n",
    "import seaborn as sns\n",
    "\n",
    "sns.set(style=\"darkgrid\")"
   ]
  },
  {
   "cell_type": "code",
   "execution_count": 2,
   "metadata": {},
   "outputs": [
    {
     "data": {
      "text/html": [
       "<div>\n",
       "<style scoped>\n",
       "    .dataframe tbody tr th:only-of-type {\n",
       "        vertical-align: middle;\n",
       "    }\n",
       "\n",
       "    .dataframe tbody tr th {\n",
       "        vertical-align: top;\n",
       "    }\n",
       "\n",
       "    .dataframe thead th {\n",
       "        text-align: right;\n",
       "    }\n",
       "</style>\n",
       "<table border=\"1\" class=\"dataframe\">\n",
       "  <thead>\n",
       "    <tr style=\"text-align: right;\">\n",
       "      <th></th>\n",
       "      <th>country</th>\n",
       "      <th>description</th>\n",
       "      <th>designation</th>\n",
       "      <th>points</th>\n",
       "      <th>price</th>\n",
       "      <th>province</th>\n",
       "      <th>region_1</th>\n",
       "      <th>region_2</th>\n",
       "      <th>taster_name</th>\n",
       "      <th>taster_twitter_handle</th>\n",
       "      <th>title</th>\n",
       "      <th>variety</th>\n",
       "      <th>winery</th>\n",
       "    </tr>\n",
       "  </thead>\n",
       "  <tbody>\n",
       "    <tr>\n",
       "      <th>0</th>\n",
       "      <td>US</td>\n",
       "      <td>This wine's aromas are vibrant and fruit forwa...</td>\n",
       "      <td>NaN</td>\n",
       "      <td>91</td>\n",
       "      <td>29.0</td>\n",
       "      <td>Washington</td>\n",
       "      <td>Columbia Valley (WA)</td>\n",
       "      <td>Columbia Valley</td>\n",
       "      <td>Sean P. Sullivan</td>\n",
       "      <td>@wawinereport</td>\n",
       "      <td>Baer 2014 Malbec (Columbia Valley (WA))</td>\n",
       "      <td>Malbec</td>\n",
       "      <td>Baer</td>\n",
       "    </tr>\n",
       "    <tr>\n",
       "      <th>1</th>\n",
       "      <td>US</td>\n",
       "      <td>If you're curious about California Grenache Bl...</td>\n",
       "      <td>Tourmaline</td>\n",
       "      <td>88</td>\n",
       "      <td>24.0</td>\n",
       "      <td>California</td>\n",
       "      <td>Santa Ynez Valley</td>\n",
       "      <td>Central Coast</td>\n",
       "      <td>NaN</td>\n",
       "      <td>NaN</td>\n",
       "      <td>Coghlan 2010 Tourmaline Grenache Blanc (Santa ...</td>\n",
       "      <td>Grenache Blanc</td>\n",
       "      <td>Coghlan</td>\n",
       "    </tr>\n",
       "    <tr>\n",
       "      <th>2</th>\n",
       "      <td>France</td>\n",
       "      <td>While the acidity is intense, it is balanced b...</td>\n",
       "      <td>NaN</td>\n",
       "      <td>84</td>\n",
       "      <td>15.0</td>\n",
       "      <td>Beaujolais</td>\n",
       "      <td>Beaujolais-Villages</td>\n",
       "      <td>NaN</td>\n",
       "      <td>Roger Voss</td>\n",
       "      <td>@vossroger</td>\n",
       "      <td>Domaine de Roche Guillon 2013  Beaujolais-Vill...</td>\n",
       "      <td>Gamay</td>\n",
       "      <td>Domaine de Roche Guillon</td>\n",
       "    </tr>\n",
       "    <tr>\n",
       "      <th>3</th>\n",
       "      <td>France</td>\n",
       "      <td>Red fruits and a soft tannic profile give a re...</td>\n",
       "      <td>NaN</td>\n",
       "      <td>88</td>\n",
       "      <td>17.0</td>\n",
       "      <td>Southwest France</td>\n",
       "      <td>Cahors</td>\n",
       "      <td>NaN</td>\n",
       "      <td>Roger Voss</td>\n",
       "      <td>@vossroger</td>\n",
       "      <td>Domaine de Cause 2011 Malbec (Cahors)</td>\n",
       "      <td>Malbec</td>\n",
       "      <td>Domaine de Cause</td>\n",
       "    </tr>\n",
       "    <tr>\n",
       "      <th>4</th>\n",
       "      <td>Spain</td>\n",
       "      <td>Shows true Priorat depth and minerality while ...</td>\n",
       "      <td>Balcons</td>\n",
       "      <td>90</td>\n",
       "      <td>60.0</td>\n",
       "      <td>Catalonia</td>\n",
       "      <td>Priorat</td>\n",
       "      <td>NaN</td>\n",
       "      <td>Michael Schachner</td>\n",
       "      <td>@wineschach</td>\n",
       "      <td>Pinord 2004 Balcons Red (Priorat)</td>\n",
       "      <td>Red Blend</td>\n",
       "      <td>Pinord</td>\n",
       "    </tr>\n",
       "  </tbody>\n",
       "</table>\n",
       "</div>"
      ],
      "text/plain": [
       "  country                                        description designation  \\\n",
       "0      US  This wine's aromas are vibrant and fruit forwa...         NaN   \n",
       "1      US  If you're curious about California Grenache Bl...  Tourmaline   \n",
       "2  France  While the acidity is intense, it is balanced b...         NaN   \n",
       "3  France  Red fruits and a soft tannic profile give a re...         NaN   \n",
       "4   Spain  Shows true Priorat depth and minerality while ...     Balcons   \n",
       "\n",
       "   points  price          province              region_1         region_2  \\\n",
       "0      91   29.0        Washington  Columbia Valley (WA)  Columbia Valley   \n",
       "1      88   24.0        California     Santa Ynez Valley    Central Coast   \n",
       "2      84   15.0        Beaujolais   Beaujolais-Villages              NaN   \n",
       "3      88   17.0  Southwest France                Cahors              NaN   \n",
       "4      90   60.0         Catalonia               Priorat              NaN   \n",
       "\n",
       "         taster_name taster_twitter_handle  \\\n",
       "0   Sean P. Sullivan         @wawinereport   \n",
       "1                NaN                   NaN   \n",
       "2         Roger Voss            @vossroger   \n",
       "3         Roger Voss            @vossroger   \n",
       "4  Michael Schachner           @wineschach   \n",
       "\n",
       "                                               title         variety  \\\n",
       "0            Baer 2014 Malbec (Columbia Valley (WA))          Malbec   \n",
       "1  Coghlan 2010 Tourmaline Grenache Blanc (Santa ...  Grenache Blanc   \n",
       "2  Domaine de Roche Guillon 2013  Beaujolais-Vill...           Gamay   \n",
       "3              Domaine de Cause 2011 Malbec (Cahors)          Malbec   \n",
       "4                  Pinord 2004 Balcons Red (Priorat)       Red Blend   \n",
       "\n",
       "                     winery  \n",
       "0                      Baer  \n",
       "1                   Coghlan  \n",
       "2  Domaine de Roche Guillon  \n",
       "3          Domaine de Cause  \n",
       "4                    Pinord  "
      ]
     },
     "execution_count": 2,
     "metadata": {},
     "output_type": "execute_result"
    }
   ],
   "source": [
    "df = pd.read_csv('.\\\\data\\\\winemag-data.zip')\n",
    "df.head()"
   ]
  },
  {
   "cell_type": "markdown",
   "metadata": {},
   "source": [
    "### Loc example"
   ]
  },
  {
   "cell_type": "code",
   "execution_count": 3,
   "metadata": {},
   "outputs": [
    {
     "data": {
      "text/html": [
       "<div>\n",
       "<style scoped>\n",
       "    .dataframe tbody tr th:only-of-type {\n",
       "        vertical-align: middle;\n",
       "    }\n",
       "\n",
       "    .dataframe tbody tr th {\n",
       "        vertical-align: top;\n",
       "    }\n",
       "\n",
       "    .dataframe thead th {\n",
       "        text-align: right;\n",
       "    }\n",
       "</style>\n",
       "<table border=\"1\" class=\"dataframe\">\n",
       "  <thead>\n",
       "    <tr style=\"text-align: right;\">\n",
       "      <th></th>\n",
       "      <th>country</th>\n",
       "      <th>description</th>\n",
       "      <th>designation</th>\n",
       "      <th>points</th>\n",
       "      <th>price</th>\n",
       "      <th>province</th>\n",
       "      <th>region_1</th>\n",
       "      <th>region_2</th>\n",
       "      <th>taster_name</th>\n",
       "      <th>taster_twitter_handle</th>\n",
       "      <th>title</th>\n",
       "      <th>variety</th>\n",
       "      <th>winery</th>\n",
       "    </tr>\n",
       "  </thead>\n",
       "  <tbody>\n",
       "    <tr>\n",
       "      <th>58548</th>\n",
       "      <td>US</td>\n",
       "      <td>Initially a rather subdued Frog; as if it has ...</td>\n",
       "      <td>Bionic Frog</td>\n",
       "      <td>100</td>\n",
       "      <td>80.0</td>\n",
       "      <td>Washington</td>\n",
       "      <td>Walla Walla Valley (WA)</td>\n",
       "      <td>Columbia Valley</td>\n",
       "      <td>Paul Gregutt</td>\n",
       "      <td>@paulgwine</td>\n",
       "      <td>Cayuse 2008 Bionic Frog Syrah (Walla Walla Val...</td>\n",
       "      <td>Syrah</td>\n",
       "      <td>Cayuse</td>\n",
       "    </tr>\n",
       "    <tr>\n",
       "      <th>94349</th>\n",
       "      <td>US</td>\n",
       "      <td>In 2005 Charles Smith introduced three high-en...</td>\n",
       "      <td>Royal City</td>\n",
       "      <td>100</td>\n",
       "      <td>80.0</td>\n",
       "      <td>Washington</td>\n",
       "      <td>Columbia Valley (WA)</td>\n",
       "      <td>Columbia Valley</td>\n",
       "      <td>Paul Gregutt</td>\n",
       "      <td>@paulgwine</td>\n",
       "      <td>Charles Smith 2006 Royal City Syrah (Columbia ...</td>\n",
       "      <td>Syrah</td>\n",
       "      <td>Charles Smith</td>\n",
       "    </tr>\n",
       "    <tr>\n",
       "      <th>106271</th>\n",
       "      <td>US</td>\n",
       "      <td>The flagship wine from Quilceda Creek offers e...</td>\n",
       "      <td>NaN</td>\n",
       "      <td>99</td>\n",
       "      <td>125.0</td>\n",
       "      <td>Washington</td>\n",
       "      <td>Columbia Valley (WA)</td>\n",
       "      <td>Columbia Valley</td>\n",
       "      <td>Paul Gregutt</td>\n",
       "      <td>@paulgwine</td>\n",
       "      <td>Quilceda Creek 2008 Cabernet Sauvignon (Columb...</td>\n",
       "      <td>Cabernet Sauvignon</td>\n",
       "      <td>Quilceda Creek</td>\n",
       "    </tr>\n",
       "  </tbody>\n",
       "</table>\n",
       "</div>"
      ],
      "text/plain": [
       "       country                                        description  \\\n",
       "58548       US  Initially a rather subdued Frog; as if it has ...   \n",
       "94349       US  In 2005 Charles Smith introduced three high-en...   \n",
       "106271      US  The flagship wine from Quilceda Creek offers e...   \n",
       "\n",
       "        designation  points  price    province                 region_1  \\\n",
       "58548   Bionic Frog     100   80.0  Washington  Walla Walla Valley (WA)   \n",
       "94349    Royal City     100   80.0  Washington     Columbia Valley (WA)   \n",
       "106271          NaN      99  125.0  Washington     Columbia Valley (WA)   \n",
       "\n",
       "               region_2   taster_name taster_twitter_handle  \\\n",
       "58548   Columbia Valley  Paul Gregutt           @paulgwine    \n",
       "94349   Columbia Valley  Paul Gregutt           @paulgwine    \n",
       "106271  Columbia Valley  Paul Gregutt           @paulgwine    \n",
       "\n",
       "                                                    title             variety  \\\n",
       "58548   Cayuse 2008 Bionic Frog Syrah (Walla Walla Val...               Syrah   \n",
       "94349   Charles Smith 2006 Royal City Syrah (Columbia ...               Syrah   \n",
       "106271  Quilceda Creek 2008 Cabernet Sauvignon (Columb...  Cabernet Sauvignon   \n",
       "\n",
       "                winery  \n",
       "58548           Cayuse  \n",
       "94349    Charles Smith  \n",
       "106271  Quilceda Creek  "
      ]
     },
     "execution_count": 3,
     "metadata": {},
     "output_type": "execute_result"
    }
   ],
   "source": [
    "df.loc[(df.province == 'Washington') & (df.points > 98)]"
   ]
  },
  {
   "cell_type": "code",
   "execution_count": 4,
   "metadata": {},
   "outputs": [
    {
     "data": {
      "text/plain": [
       "country                                                        New Zealand\n",
       "description              This is a sexy wine from one of New Zealand's ...\n",
       "designation                                             Rippon Mature Vine\n",
       "points                                                                  92\n",
       "price                                                                   68\n",
       "province                                                     Central Otago\n",
       "region_1                                                               NaN\n",
       "region_2                                                               NaN\n",
       "taster_name                                                            NaN\n",
       "taster_twitter_handle                                                  NaN\n",
       "title                    Rippon 2011 Rippon Mature Vine Pinot Noir (Cen...\n",
       "variety                                                         Pinot Noir\n",
       "winery                                                              Rippon\n",
       "Name: 45, dtype: object"
      ]
     },
     "execution_count": 4,
     "metadata": {},
     "output_type": "execute_result"
    }
   ],
   "source": [
    "df.iloc[45]"
   ]
  },
  {
   "cell_type": "markdown",
   "metadata": {},
   "source": [
    "## How are wines scored?"
   ]
  },
  {
   "cell_type": "code",
   "execution_count": 37,
   "metadata": {},
   "outputs": [
    {
     "data": {
      "text/plain": [
       "count    116973.000000\n",
       "mean         88.446539\n",
       "std           3.038423\n",
       "min          80.000000\n",
       "25%          86.000000\n",
       "50%          88.000000\n",
       "75%          91.000000\n",
       "max         100.000000\n",
       "Name: points, dtype: float64"
      ]
     },
     "execution_count": 37,
     "metadata": {},
     "output_type": "execute_result"
    }
   ],
   "source": [
    "df.points.describe()"
   ]
  },
  {
   "cell_type": "code",
   "execution_count": 10,
   "metadata": {},
   "outputs": [
    {
     "data": {
      "image/png": "[encoded data removed]",
      "text/plain": [
       "<Figure size 432x288 with 1 Axes>"
      ]
     },
     "metadata": {},
     "output_type": "display_data"
    }
   ],
   "source": [
    "df.points.plot.hist(title='points');"
   ]
  },
  {
   "cell_type": "markdown",
   "metadata": {},
   "source": [
    "## Data Challenges\n",
    "- what are the worst wines in the US?\n",
    "- how many tasters are there?\n",
    "- how long are the descriptions?\n",
    "- what are the top 20 wineries by number of wines? how do their points compare?\n",
    "- what is the most produced variety?\n",
    "- what is hightest rated variety?\n",
    "- what are the most controversial wine varieties?\n",
    "- are some tasters pickier than others?\n",
    "- what are the top 10 best value wines?\n",
    "- given a taster, what are their favorite varieties?"
   ]
  },
  {
   "cell_type": "code",
   "execution_count": 6,
   "metadata": {},
   "outputs": [],
   "source": [
    "top20 = df.winery.value_counts(dropna=False)[:20].index"
   ]
  },
  {
   "cell_type": "code",
   "execution_count": 12,
   "metadata": {},
   "outputs": [
    {
     "data": {
      "text/plain": [
       "<matplotlib.axes._subplots.AxesSubplot at 0x2c93dbc47f0>"
      ]
     },
     "execution_count": 12,
     "metadata": {},
     "output_type": "execute_result"
    },
    {
     "data": {
      "image/png": "[encoded data removed]",
      "text/plain": [
       "<Figure size 720x864 with 1 Axes>"
      ]
     },
     "metadata": {},
     "output_type": "display_data"
    }
   ],
   "source": [
    "df[df.winery.isin(top20)].boxplot(by='winery', column='points', vert=False, figsize=(10,12), patch_artist=True)"
   ]
  },
  {
   "cell_type": "code",
   "execution_count": 14,
   "metadata": {},
   "outputs": [
    {
     "data": {
      "text/html": [
       "<div>\n",
       "<style scoped>\n",
       "    .dataframe tbody tr th:only-of-type {\n",
       "        vertical-align: middle;\n",
       "    }\n",
       "\n",
       "    .dataframe tbody tr th {\n",
       "        vertical-align: top;\n",
       "    }\n",
       "\n",
       "    .dataframe thead th {\n",
       "        text-align: right;\n",
       "    }\n",
       "</style>\n",
       "<table border=\"1\" class=\"dataframe\">\n",
       "  <thead>\n",
       "    <tr style=\"text-align: right;\">\n",
       "      <th></th>\n",
       "      <th>count</th>\n",
       "      <th>mean</th>\n",
       "      <th>std</th>\n",
       "      <th>min</th>\n",
       "      <th>25%</th>\n",
       "      <th>50%</th>\n",
       "      <th>75%</th>\n",
       "      <th>max</th>\n",
       "    </tr>\n",
       "    <tr>\n",
       "      <th>winery</th>\n",
       "      <th></th>\n",
       "      <th></th>\n",
       "      <th></th>\n",
       "      <th></th>\n",
       "      <th></th>\n",
       "      <th></th>\n",
       "      <th></th>\n",
       "      <th></th>\n",
       "    </tr>\n",
       "  </thead>\n",
       "  <tbody>\n",
       "    <tr>\n",
       "      <th>Wines &amp; Winemakers</th>\n",
       "      <td>201.0</td>\n",
       "      <td>87.691542</td>\n",
       "      <td>2.804350</td>\n",
       "      <td>82.0</td>\n",
       "      <td>85.00</td>\n",
       "      <td>88.0</td>\n",
       "      <td>90.00</td>\n",
       "      <td>93.0</td>\n",
       "    </tr>\n",
       "    <tr>\n",
       "      <th>DFJ Vinhos</th>\n",
       "      <td>197.0</td>\n",
       "      <td>86.649746</td>\n",
       "      <td>2.491652</td>\n",
       "      <td>82.0</td>\n",
       "      <td>85.00</td>\n",
       "      <td>86.0</td>\n",
       "      <td>88.00</td>\n",
       "      <td>92.0</td>\n",
       "    </tr>\n",
       "    <tr>\n",
       "      <th>Testarossa</th>\n",
       "      <td>193.0</td>\n",
       "      <td>90.751295</td>\n",
       "      <td>2.622084</td>\n",
       "      <td>82.0</td>\n",
       "      <td>89.00</td>\n",
       "      <td>91.0</td>\n",
       "      <td>93.00</td>\n",
       "      <td>96.0</td>\n",
       "    </tr>\n",
       "    <tr>\n",
       "      <th>Williams Selyem</th>\n",
       "      <td>190.0</td>\n",
       "      <td>92.668421</td>\n",
       "      <td>2.815406</td>\n",
       "      <td>85.0</td>\n",
       "      <td>91.00</td>\n",
       "      <td>93.0</td>\n",
       "      <td>94.00</td>\n",
       "      <td>99.0</td>\n",
       "    </tr>\n",
       "    <tr>\n",
       "      <th>Chateau Ste. Michelle</th>\n",
       "      <td>180.0</td>\n",
       "      <td>88.733333</td>\n",
       "      <td>1.814282</td>\n",
       "      <td>84.0</td>\n",
       "      <td>88.00</td>\n",
       "      <td>89.0</td>\n",
       "      <td>90.00</td>\n",
       "      <td>96.0</td>\n",
       "    </tr>\n",
       "    <tr>\n",
       "      <th>Georges Duboeuf</th>\n",
       "      <td>178.0</td>\n",
       "      <td>87.415730</td>\n",
       "      <td>2.315797</td>\n",
       "      <td>80.0</td>\n",
       "      <td>86.00</td>\n",
       "      <td>88.0</td>\n",
       "      <td>89.00</td>\n",
       "      <td>92.0</td>\n",
       "    </tr>\n",
       "    <tr>\n",
       "      <th>Louis Latour</th>\n",
       "      <td>177.0</td>\n",
       "      <td>90.559322</td>\n",
       "      <td>2.840082</td>\n",
       "      <td>83.0</td>\n",
       "      <td>88.00</td>\n",
       "      <td>91.0</td>\n",
       "      <td>93.00</td>\n",
       "      <td>97.0</td>\n",
       "    </tr>\n",
       "    <tr>\n",
       "      <th>Concha y Toro</th>\n",
       "      <td>152.0</td>\n",
       "      <td>87.585526</td>\n",
       "      <td>2.538300</td>\n",
       "      <td>82.0</td>\n",
       "      <td>86.00</td>\n",
       "      <td>87.0</td>\n",
       "      <td>90.00</td>\n",
       "      <td>93.0</td>\n",
       "    </tr>\n",
       "    <tr>\n",
       "      <th>Columbia Crest</th>\n",
       "      <td>144.0</td>\n",
       "      <td>87.868056</td>\n",
       "      <td>2.004354</td>\n",
       "      <td>83.0</td>\n",
       "      <td>87.00</td>\n",
       "      <td>88.0</td>\n",
       "      <td>89.00</td>\n",
       "      <td>92.0</td>\n",
       "    </tr>\n",
       "    <tr>\n",
       "      <th>Gary Farrell</th>\n",
       "      <td>115.0</td>\n",
       "      <td>91.747826</td>\n",
       "      <td>2.704264</td>\n",
       "      <td>82.0</td>\n",
       "      <td>90.00</td>\n",
       "      <td>92.0</td>\n",
       "      <td>94.00</td>\n",
       "      <td>96.0</td>\n",
       "    </tr>\n",
       "    <tr>\n",
       "      <th>Kendall-Jackson</th>\n",
       "      <td>114.0</td>\n",
       "      <td>88.815789</td>\n",
       "      <td>2.919467</td>\n",
       "      <td>82.0</td>\n",
       "      <td>87.00</td>\n",
       "      <td>89.0</td>\n",
       "      <td>91.00</td>\n",
       "      <td>97.0</td>\n",
       "    </tr>\n",
       "    <tr>\n",
       "      <th>Siduri</th>\n",
       "      <td>109.0</td>\n",
       "      <td>90.541284</td>\n",
       "      <td>2.374760</td>\n",
       "      <td>85.0</td>\n",
       "      <td>89.00</td>\n",
       "      <td>91.0</td>\n",
       "      <td>92.00</td>\n",
       "      <td>96.0</td>\n",
       "    </tr>\n",
       "    <tr>\n",
       "      <th>Albert Bichot</th>\n",
       "      <td>108.0</td>\n",
       "      <td>90.537037</td>\n",
       "      <td>3.012205</td>\n",
       "      <td>83.0</td>\n",
       "      <td>88.00</td>\n",
       "      <td>91.0</td>\n",
       "      <td>93.00</td>\n",
       "      <td>96.0</td>\n",
       "    </tr>\n",
       "    <tr>\n",
       "      <th>Montes</th>\n",
       "      <td>107.0</td>\n",
       "      <td>87.598131</td>\n",
       "      <td>2.602103</td>\n",
       "      <td>82.0</td>\n",
       "      <td>86.00</td>\n",
       "      <td>87.0</td>\n",
       "      <td>89.50</td>\n",
       "      <td>93.0</td>\n",
       "    </tr>\n",
       "    <tr>\n",
       "      <th>Undurraga</th>\n",
       "      <td>106.0</td>\n",
       "      <td>87.103774</td>\n",
       "      <td>2.445323</td>\n",
       "      <td>81.0</td>\n",
       "      <td>86.00</td>\n",
       "      <td>87.0</td>\n",
       "      <td>89.00</td>\n",
       "      <td>92.0</td>\n",
       "    </tr>\n",
       "    <tr>\n",
       "      <th>Jean-Luc and Paul Aegerter</th>\n",
       "      <td>104.0</td>\n",
       "      <td>89.009615</td>\n",
       "      <td>2.924603</td>\n",
       "      <td>83.0</td>\n",
       "      <td>86.75</td>\n",
       "      <td>89.0</td>\n",
       "      <td>91.00</td>\n",
       "      <td>94.0</td>\n",
       "    </tr>\n",
       "    <tr>\n",
       "      <th>Trapiche</th>\n",
       "      <td>104.0</td>\n",
       "      <td>87.375000</td>\n",
       "      <td>3.172049</td>\n",
       "      <td>80.0</td>\n",
       "      <td>85.00</td>\n",
       "      <td>88.0</td>\n",
       "      <td>89.25</td>\n",
       "      <td>95.0</td>\n",
       "    </tr>\n",
       "    <tr>\n",
       "      <th>Lynmar</th>\n",
       "      <td>104.0</td>\n",
       "      <td>92.750000</td>\n",
       "      <td>2.084385</td>\n",
       "      <td>87.0</td>\n",
       "      <td>91.75</td>\n",
       "      <td>93.0</td>\n",
       "      <td>94.00</td>\n",
       "      <td>97.0</td>\n",
       "    </tr>\n",
       "    <tr>\n",
       "      <th>V. Sattui</th>\n",
       "      <td>100.0</td>\n",
       "      <td>88.450000</td>\n",
       "      <td>2.451036</td>\n",
       "      <td>83.0</td>\n",
       "      <td>87.00</td>\n",
       "      <td>88.0</td>\n",
       "      <td>90.00</td>\n",
       "      <td>94.0</td>\n",
       "    </tr>\n",
       "    <tr>\n",
       "      <th>Robert Mondavi</th>\n",
       "      <td>99.0</td>\n",
       "      <td>88.282828</td>\n",
       "      <td>3.074053</td>\n",
       "      <td>82.0</td>\n",
       "      <td>86.00</td>\n",
       "      <td>88.0</td>\n",
       "      <td>90.00</td>\n",
       "      <td>95.0</td>\n",
       "    </tr>\n",
       "  </tbody>\n",
       "</table>\n",
       "</div>"
      ],
      "text/plain": [
       "                            count       mean       std   min    25%   50%  \\\n",
       "winery                                                                      \n",
       "Wines & Winemakers          201.0  87.691542  2.804350  82.0  85.00  88.0   \n",
       "DFJ Vinhos                  197.0  86.649746  2.491652  82.0  85.00  86.0   \n",
       "Testarossa                  193.0  90.751295  2.622084  82.0  89.00  91.0   \n",
       "Williams Selyem             190.0  92.668421  2.815406  85.0  91.00  93.0   \n",
       "Chateau Ste. Michelle       180.0  88.733333  1.814282  84.0  88.00  89.0   \n",
       "Georges Duboeuf             178.0  87.415730  2.315797  80.0  86.00  88.0   \n",
       "Louis Latour                177.0  90.559322  2.840082  83.0  88.00  91.0   \n",
       "Concha y Toro               152.0  87.585526  2.538300  82.0  86.00  87.0   \n",
       "Columbia Crest              144.0  87.868056  2.004354  83.0  87.00  88.0   \n",
       "Gary Farrell                115.0  91.747826  2.704264  82.0  90.00  92.0   \n",
       "Kendall-Jackson             114.0  88.815789  2.919467  82.0  87.00  89.0   \n",
       "Siduri                      109.0  90.541284  2.374760  85.0  89.00  91.0   \n",
       "Albert Bichot               108.0  90.537037  3.012205  83.0  88.00  91.0   \n",
       "Montes                      107.0  87.598131  2.602103  82.0  86.00  87.0   \n",
       "Undurraga                   106.0  87.103774  2.445323  81.0  86.00  87.0   \n",
       "Jean-Luc and Paul Aegerter  104.0  89.009615  2.924603  83.0  86.75  89.0   \n",
       "Trapiche                    104.0  87.375000  3.172049  80.0  85.00  88.0   \n",
       "Lynmar                      104.0  92.750000  2.084385  87.0  91.75  93.0   \n",
       "V. Sattui                   100.0  88.450000  2.451036  83.0  87.00  88.0   \n",
       "Robert Mondavi               99.0  88.282828  3.074053  82.0  86.00  88.0   \n",
       "\n",
       "                              75%   max  \n",
       "winery                                   \n",
       "Wines & Winemakers          90.00  93.0  \n",
       "DFJ Vinhos                  88.00  92.0  \n",
       "Testarossa                  93.00  96.0  \n",
       "Williams Selyem             94.00  99.0  \n",
       "Chateau Ste. Michelle       90.00  96.0  \n",
       "Georges Duboeuf             89.00  92.0  \n",
       "Louis Latour                93.00  97.0  \n",
       "Concha y Toro               90.00  93.0  \n",
       "Columbia Crest              89.00  92.0  \n",
       "Gary Farrell                94.00  96.0  \n",
       "Kendall-Jackson             91.00  97.0  \n",
       "Siduri                      92.00  96.0  \n",
       "Albert Bichot               93.00  96.0  \n",
       "Montes                      89.50  93.0  \n",
       "Undurraga                   89.00  92.0  \n",
       "Jean-Luc and Paul Aegerter  91.00  94.0  \n",
       "Trapiche                    89.25  95.0  \n",
       "Lynmar                      94.00  97.0  \n",
       "V. Sattui                   90.00  94.0  \n",
       "Robert Mondavi              90.00  95.0  "
      ]
     },
     "execution_count": 14,
     "metadata": {},
     "output_type": "execute_result"
    }
   ],
   "source": [
    "df.groupby('winery')['points'].describe().sort_values('count', ascending=False).head(20)"
   ]
  },
  {
   "cell_type": "code",
   "execution_count": 14,
   "metadata": {},
   "outputs": [],
   "source": [
    "df['year'] = df.title.str.extract('(19|20\\d{2})')"
   ]
  },
  {
   "cell_type": "code",
   "execution_count": 55,
   "metadata": {},
   "outputs": [
    {
     "data": {
      "text/plain": [
       "                      23565\n",
       "Roger Voss            23058\n",
       "Michael Schachner     13590\n",
       "Kerin O’Keefe          9643\n",
       "Virginie Boone         8599\n",
       "Paul Gregutt           8560\n",
       "Matt Kettmann          5690\n",
       "Joe Czerwinski         4634\n",
       "Sean P. Sullivan       4496\n",
       "Anna Lee C. Iijima     3986\n",
       "Jim Gordon             3784\n",
       "Anne Krebiehl MW       3311\n",
       "Lauren Buzzeo          1638\n",
       "Susan Kostrzewa         988\n",
       "Mike DeSimone           464\n",
       "Jeff Jenssen            440\n",
       "Alexander Peartree      373\n",
       "Carrie Dykes            126\n",
       "Fiona Adams              23\n",
       "Christina Pickard         5\n",
       "Name: taster_name, dtype: int64"
      ]
     },
     "execution_count": 55,
     "metadata": {},
     "output_type": "execute_result"
    }
   ],
   "source": [
    "df.taster_name.value_counts()"
   ]
  },
  {
   "cell_type": "code",
   "execution_count": 5,
   "metadata": {},
   "outputs": [
    {
     "data": {
      "image/png": "[encoded data removed]",
      "text/plain": [
       "<Figure size 720x864 with 1 Axes>"
      ]
     },
     "metadata": {
      "needs_background": "light"
     },
     "output_type": "display_data"
    }
   ],
   "source": [
    "(df.country\n",
    "   .value_counts(ascending=True, dropna=False)\n",
    "   .plot.barh(figsize=(10,12), logx=True));"
   ]
  },
  {
   "cell_type": "code",
   "execution_count": 7,
   "metadata": {},
   "outputs": [
    {
     "data": {
      "text/plain": [
       "'(US|France|Spain|Italy|Australia|Chile|Germany|Uruguay|Portugal|New Zealand|Israel|Argentina|Austria|Canada|South Africa|Greece|Turkey|Croatia|Hungary|Romania|India|Lebanon|Slovenia|England|Czech Republic|Bulgaria|Cyprus|Moldova|Georgia|Peru|Mexico|Brazil|Morocco|Ukraine|Bosnia and Herzegovina|Macedonia|Switzerland|Serbia|Luxembourg|China|Armenia|Slovakia)'"
      ]
     },
     "execution_count": 7,
     "metadata": {},
     "output_type": "execute_result"
    }
   ],
   "source": [
    "countries = (df.loc[df.country != '', 'country']\n",
    "               .unique()\n",
    "               .tolist())\n",
    "\n",
    "countries_regex = '(' + '|'.join(countries) + ')'\n",
    "countries_regex"
   ]
  },
  {
   "cell_type": "code",
   "execution_count": 8,
   "metadata": {},
   "outputs": [
    {
     "data": {
      "text/html": [
       "<div>\n",
       "<style scoped>\n",
       "    .dataframe tbody tr th:only-of-type {\n",
       "        vertical-align: middle;\n",
       "    }\n",
       "\n",
       "    .dataframe tbody tr th {\n",
       "        vertical-align: top;\n",
       "    }\n",
       "\n",
       "    .dataframe thead th {\n",
       "        text-align: right;\n",
       "    }\n",
       "</style>\n",
       "<table border=\"1\" class=\"dataframe\">\n",
       "  <thead>\n",
       "    <tr style=\"text-align: right;\">\n",
       "      <th></th>\n",
       "      <th>0</th>\n",
       "    </tr>\n",
       "  </thead>\n",
       "  <tbody>\n",
       "    <tr>\n",
       "      <th>215</th>\n",
       "      <td>South Africa</td>\n",
       "    </tr>\n",
       "    <tr>\n",
       "      <th>4152</th>\n",
       "      <td>Hungary</td>\n",
       "    </tr>\n",
       "    <tr>\n",
       "      <th>43890</th>\n",
       "      <td>Bulgaria</td>\n",
       "    </tr>\n",
       "    <tr>\n",
       "      <th>62502</th>\n",
       "      <td>Uruguay</td>\n",
       "    </tr>\n",
       "    <tr>\n",
       "      <th>63324</th>\n",
       "      <td>Switzerland</td>\n",
       "    </tr>\n",
       "    <tr>\n",
       "      <th>81016</th>\n",
       "      <td>Bulgaria</td>\n",
       "    </tr>\n",
       "    <tr>\n",
       "      <th>105248</th>\n",
       "      <td>Bulgaria</td>\n",
       "    </tr>\n",
       "  </tbody>\n",
       "</table>\n",
       "</div>"
      ],
      "text/plain": [
       "                   0\n",
       "215     South Africa\n",
       "4152         Hungary\n",
       "43890       Bulgaria\n",
       "62502        Uruguay\n",
       "63324    Switzerland\n",
       "81016       Bulgaria\n",
       "105248      Bulgaria"
      ]
     },
     "execution_count": 8,
     "metadata": {},
     "output_type": "execute_result"
    }
   ],
   "source": [
    "found_countries = (df.loc[df.country == '', 'description']\n",
    "                     .str.extract(countries_regex)\n",
    "                     .dropna())\n",
    "found_countries"
   ]
  },
  {
   "cell_type": "code",
   "execution_count": 9,
   "metadata": {},
   "outputs": [
    {
     "data": {
      "text/plain": [
       "215       South Africa\n",
       "4152           Hungary\n",
       "43890         Bulgaria\n",
       "62502          Uruguay\n",
       "63324      Switzerland\n",
       "81016         Bulgaria\n",
       "105248        Bulgaria\n",
       "Name: country, dtype: object"
      ]
     },
     "execution_count": 9,
     "metadata": {},
     "output_type": "execute_result"
    }
   ],
   "source": [
    "df.loc[found_countries.index, 'country'] = found_countries.values\n",
    "df.loc[found_countries.index, 'country']"
   ]
  },
  {
   "cell_type": "code",
   "execution_count": 10,
   "metadata": {},
   "outputs": [
    {
     "data": {
      "image/png": "[encoded data removed]",
      "text/plain": [
       "<Figure size 432x288 with 1 Axes>"
      ]
     },
     "metadata": {
      "needs_background": "light"
     },
     "output_type": "display_data"
    }
   ],
   "source": [
    "(df.description\n",
    "   .str.len()\n",
    "   .plot.hist(title='Description length')\n",
    "   .set(xlabel=\"Length\"));"
   ]
  },
  {
   "cell_type": "code",
   "execution_count": 75,
   "metadata": {},
   "outputs": [
    {
     "data": {
      "text/plain": [
       "<matplotlib.axes._subplots.AxesSubplot at 0x2e126d3d748>"
      ]
     },
     "execution_count": 75,
     "metadata": {},
     "output_type": "execute_result"
    },
    {
     "data": {
      "image/png": "[encoded data removed]",
      "text/plain": [
       "<Figure size 432x288 with 1 Axes>"
      ]
     },
     "metadata": {},
     "output_type": "display_data"
    }
   ],
   "source": [
    "df.points.plot.hist()"
   ]
  },
  {
   "cell_type": "code",
   "execution_count": 22,
   "metadata": {},
   "outputs": [
    {
     "data": {
      "text/plain": [
       "<matplotlib.axes._subplots.AxesSubplot at 0x2c94003ea58>"
      ]
     },
     "execution_count": 22,
     "metadata": {},
     "output_type": "execute_result"
    },
    {
     "data": {
      "image/png": "[encoded data removed]",
      "text/plain": [
       "<Figure size 720x864 with 1 Axes>"
      ]
     },
     "metadata": {},
     "output_type": "display_data"
    }
   ],
   "source": [
    "df.boxplot(by='taster_name', column='points', vert=False, figsize=(10,12))"
   ]
  },
  {
   "cell_type": "code",
   "execution_count": 47,
   "metadata": {},
   "outputs": [
    {
     "data": {
      "image/png": "[encoded data removed]",
      "text/plain": [
       "<Figure size 720x864 with 1 Axes>"
      ]
     },
     "metadata": {},
     "output_type": "display_data"
    }
   ],
   "source": [
    "def boxplot_sorted(df, by, column, **kwds):\n",
    "    df2 = pd.DataFrame({col:vals[column] for col, vals in df.groupby(by)})\n",
    "    meds = df2.median().sort_values()\n",
    "    df2[meds.index].boxplot(**kwds)\n",
    "    \n",
    "boxplot_sorted(df, by='taster_name', column='points', vert=False, figsize=(10,12))"
   ]
  },
  {
   "cell_type": "code",
   "execution_count": 49,
   "metadata": {},
   "outputs": [
    {
     "data": {
      "text/html": [
       "<div>\n",
       "<style scoped>\n",
       "    .dataframe tbody tr th:only-of-type {\n",
       "        vertical-align: middle;\n",
       "    }\n",
       "\n",
       "    .dataframe tbody tr th {\n",
       "        vertical-align: top;\n",
       "    }\n",
       "\n",
       "    .dataframe thead th {\n",
       "        text-align: right;\n",
       "    }\n",
       "</style>\n",
       "<table border=\"1\" class=\"dataframe\">\n",
       "  <thead>\n",
       "    <tr style=\"text-align: right;\">\n",
       "      <th></th>\n",
       "      <th>count</th>\n",
       "      <th>mean</th>\n",
       "      <th>std</th>\n",
       "      <th>min</th>\n",
       "      <th>50%</th>\n",
       "      <th>95%</th>\n",
       "      <th>max</th>\n",
       "    </tr>\n",
       "    <tr>\n",
       "      <th>variety</th>\n",
       "      <th></th>\n",
       "      <th></th>\n",
       "      <th></th>\n",
       "      <th></th>\n",
       "      <th></th>\n",
       "      <th></th>\n",
       "      <th></th>\n",
       "    </tr>\n",
       "  </thead>\n",
       "  <tbody>\n",
       "    <tr>\n",
       "      <th>Cabernet Sauvignon</th>\n",
       "      <td>1656.0</td>\n",
       "      <td>89.533816</td>\n",
       "      <td>3.113571</td>\n",
       "      <td>80.0</td>\n",
       "      <td>90.0</td>\n",
       "      <td>94.00</td>\n",
       "      <td>99.0</td>\n",
       "    </tr>\n",
       "    <tr>\n",
       "      <th>Chardonnay</th>\n",
       "      <td>1302.0</td>\n",
       "      <td>89.609063</td>\n",
       "      <td>2.964822</td>\n",
       "      <td>81.0</td>\n",
       "      <td>90.0</td>\n",
       "      <td>94.00</td>\n",
       "      <td>98.0</td>\n",
       "    </tr>\n",
       "    <tr>\n",
       "      <th>Pinot Noir</th>\n",
       "      <td>1688.0</td>\n",
       "      <td>90.146327</td>\n",
       "      <td>2.919474</td>\n",
       "      <td>80.0</td>\n",
       "      <td>90.0</td>\n",
       "      <td>94.00</td>\n",
       "      <td>98.0</td>\n",
       "    </tr>\n",
       "    <tr>\n",
       "      <th>Malbec</th>\n",
       "      <td>61.0</td>\n",
       "      <td>88.819672</td>\n",
       "      <td>3.143820</td>\n",
       "      <td>80.0</td>\n",
       "      <td>89.0</td>\n",
       "      <td>94.00</td>\n",
       "      <td>95.0</td>\n",
       "    </tr>\n",
       "    <tr>\n",
       "      <th>Rhône-style Red Blend</th>\n",
       "      <td>45.0</td>\n",
       "      <td>89.488889</td>\n",
       "      <td>2.599145</td>\n",
       "      <td>85.0</td>\n",
       "      <td>90.0</td>\n",
       "      <td>94.00</td>\n",
       "      <td>94.0</td>\n",
       "    </tr>\n",
       "    <tr>\n",
       "      <th>Sparkling Blend</th>\n",
       "      <td>128.0</td>\n",
       "      <td>90.523438</td>\n",
       "      <td>2.384216</td>\n",
       "      <td>85.0</td>\n",
       "      <td>90.0</td>\n",
       "      <td>94.00</td>\n",
       "      <td>98.0</td>\n",
       "    </tr>\n",
       "    <tr>\n",
       "      <th>Syrah</th>\n",
       "      <td>291.0</td>\n",
       "      <td>89.570447</td>\n",
       "      <td>2.925103</td>\n",
       "      <td>82.0</td>\n",
       "      <td>90.0</td>\n",
       "      <td>94.00</td>\n",
       "      <td>97.0</td>\n",
       "    </tr>\n",
       "    <tr>\n",
       "      <th>Bordeaux-style Red Blend</th>\n",
       "      <td>220.0</td>\n",
       "      <td>89.636364</td>\n",
       "      <td>2.977012</td>\n",
       "      <td>80.0</td>\n",
       "      <td>90.0</td>\n",
       "      <td>94.00</td>\n",
       "      <td>99.0</td>\n",
       "    </tr>\n",
       "    <tr>\n",
       "      <th>White Blend</th>\n",
       "      <td>61.0</td>\n",
       "      <td>88.590164</td>\n",
       "      <td>2.900443</td>\n",
       "      <td>80.0</td>\n",
       "      <td>88.0</td>\n",
       "      <td>94.00</td>\n",
       "      <td>95.0</td>\n",
       "    </tr>\n",
       "    <tr>\n",
       "      <th>Albariño</th>\n",
       "      <td>16.0</td>\n",
       "      <td>89.625000</td>\n",
       "      <td>2.986079</td>\n",
       "      <td>82.0</td>\n",
       "      <td>90.0</td>\n",
       "      <td>94.00</td>\n",
       "      <td>94.0</td>\n",
       "    </tr>\n",
       "    <tr>\n",
       "      <th>Mourvèdre</th>\n",
       "      <td>12.0</td>\n",
       "      <td>90.333333</td>\n",
       "      <td>2.674232</td>\n",
       "      <td>86.0</td>\n",
       "      <td>90.0</td>\n",
       "      <td>93.90</td>\n",
       "      <td>95.0</td>\n",
       "    </tr>\n",
       "    <tr>\n",
       "      <th>Cabernet Franc</th>\n",
       "      <td>108.0</td>\n",
       "      <td>88.537037</td>\n",
       "      <td>2.526221</td>\n",
       "      <td>83.0</td>\n",
       "      <td>88.0</td>\n",
       "      <td>93.65</td>\n",
       "      <td>94.0</td>\n",
       "    </tr>\n",
       "    <tr>\n",
       "      <th>Riesling</th>\n",
       "      <td>31.0</td>\n",
       "      <td>88.838710</td>\n",
       "      <td>2.395785</td>\n",
       "      <td>85.0</td>\n",
       "      <td>88.0</td>\n",
       "      <td>93.50</td>\n",
       "      <td>95.0</td>\n",
       "    </tr>\n",
       "    <tr>\n",
       "      <th>Port</th>\n",
       "      <td>11.0</td>\n",
       "      <td>88.454545</td>\n",
       "      <td>3.012097</td>\n",
       "      <td>85.0</td>\n",
       "      <td>87.0</td>\n",
       "      <td>93.50</td>\n",
       "      <td>94.0</td>\n",
       "    </tr>\n",
       "    <tr>\n",
       "      <th>Tempranillo</th>\n",
       "      <td>32.0</td>\n",
       "      <td>87.812500</td>\n",
       "      <td>2.945061</td>\n",
       "      <td>82.0</td>\n",
       "      <td>87.0</td>\n",
       "      <td>93.45</td>\n",
       "      <td>94.0</td>\n",
       "    </tr>\n",
       "    <tr>\n",
       "      <th>Grenache</th>\n",
       "      <td>54.0</td>\n",
       "      <td>89.277778</td>\n",
       "      <td>2.609248</td>\n",
       "      <td>81.0</td>\n",
       "      <td>90.0</td>\n",
       "      <td>93.00</td>\n",
       "      <td>96.0</td>\n",
       "    </tr>\n",
       "    <tr>\n",
       "      <th>Gewürztraminer</th>\n",
       "      <td>28.0</td>\n",
       "      <td>89.821429</td>\n",
       "      <td>1.886670</td>\n",
       "      <td>87.0</td>\n",
       "      <td>90.0</td>\n",
       "      <td>93.00</td>\n",
       "      <td>94.0</td>\n",
       "    </tr>\n",
       "    <tr>\n",
       "      <th>Zinfandel</th>\n",
       "      <td>717.0</td>\n",
       "      <td>88.306834</td>\n",
       "      <td>3.078692</td>\n",
       "      <td>80.0</td>\n",
       "      <td>88.0</td>\n",
       "      <td>93.00</td>\n",
       "      <td>97.0</td>\n",
       "    </tr>\n",
       "    <tr>\n",
       "      <th>Petite Sirah</th>\n",
       "      <td>172.0</td>\n",
       "      <td>88.331395</td>\n",
       "      <td>2.666788</td>\n",
       "      <td>80.0</td>\n",
       "      <td>88.0</td>\n",
       "      <td>93.00</td>\n",
       "      <td>95.0</td>\n",
       "    </tr>\n",
       "    <tr>\n",
       "      <th>Red Blend</th>\n",
       "      <td>360.0</td>\n",
       "      <td>88.136111</td>\n",
       "      <td>2.945338</td>\n",
       "      <td>80.0</td>\n",
       "      <td>88.0</td>\n",
       "      <td>93.00</td>\n",
       "      <td>95.0</td>\n",
       "    </tr>\n",
       "    <tr>\n",
       "      <th>Fumé Blanc</th>\n",
       "      <td>22.0</td>\n",
       "      <td>89.272727</td>\n",
       "      <td>2.394076</td>\n",
       "      <td>84.0</td>\n",
       "      <td>89.5</td>\n",
       "      <td>92.95</td>\n",
       "      <td>95.0</td>\n",
       "    </tr>\n",
       "    <tr>\n",
       "      <th>Pinot Blanc</th>\n",
       "      <td>12.0</td>\n",
       "      <td>87.583333</td>\n",
       "      <td>3.502164</td>\n",
       "      <td>82.0</td>\n",
       "      <td>87.5</td>\n",
       "      <td>92.45</td>\n",
       "      <td>93.0</td>\n",
       "    </tr>\n",
       "    <tr>\n",
       "      <th>Merlot</th>\n",
       "      <td>297.0</td>\n",
       "      <td>87.993266</td>\n",
       "      <td>2.799606</td>\n",
       "      <td>80.0</td>\n",
       "      <td>88.0</td>\n",
       "      <td>92.20</td>\n",
       "      <td>96.0</td>\n",
       "    </tr>\n",
       "    <tr>\n",
       "      <th>Rhône-style White Blend</th>\n",
       "      <td>19.0</td>\n",
       "      <td>88.842105</td>\n",
       "      <td>1.922474</td>\n",
       "      <td>85.0</td>\n",
       "      <td>88.0</td>\n",
       "      <td>92.10</td>\n",
       "      <td>93.0</td>\n",
       "    </tr>\n",
       "    <tr>\n",
       "      <th>Cabernet Blend</th>\n",
       "      <td>10.0</td>\n",
       "      <td>90.000000</td>\n",
       "      <td>1.563472</td>\n",
       "      <td>88.0</td>\n",
       "      <td>90.0</td>\n",
       "      <td>92.00</td>\n",
       "      <td>92.0</td>\n",
       "    </tr>\n",
       "    <tr>\n",
       "      <th>Viognier</th>\n",
       "      <td>65.0</td>\n",
       "      <td>88.353846</td>\n",
       "      <td>2.769424</td>\n",
       "      <td>80.0</td>\n",
       "      <td>88.0</td>\n",
       "      <td>92.00</td>\n",
       "      <td>93.0</td>\n",
       "    </tr>\n",
       "    <tr>\n",
       "      <th>Chenin Blanc</th>\n",
       "      <td>22.0</td>\n",
       "      <td>88.409091</td>\n",
       "      <td>2.196514</td>\n",
       "      <td>85.0</td>\n",
       "      <td>88.0</td>\n",
       "      <td>92.00</td>\n",
       "      <td>94.0</td>\n",
       "    </tr>\n",
       "    <tr>\n",
       "      <th>Moscato</th>\n",
       "      <td>16.0</td>\n",
       "      <td>87.937500</td>\n",
       "      <td>2.568235</td>\n",
       "      <td>84.0</td>\n",
       "      <td>88.0</td>\n",
       "      <td>92.00</td>\n",
       "      <td>92.0</td>\n",
       "    </tr>\n",
       "    <tr>\n",
       "      <th>Pinot Gris</th>\n",
       "      <td>39.0</td>\n",
       "      <td>88.794872</td>\n",
       "      <td>2.214539</td>\n",
       "      <td>84.0</td>\n",
       "      <td>88.0</td>\n",
       "      <td>92.00</td>\n",
       "      <td>92.0</td>\n",
       "    </tr>\n",
       "    <tr>\n",
       "      <th>Rosé</th>\n",
       "      <td>109.0</td>\n",
       "      <td>88.321101</td>\n",
       "      <td>2.592299</td>\n",
       "      <td>80.0</td>\n",
       "      <td>88.0</td>\n",
       "      <td>92.00</td>\n",
       "      <td>94.0</td>\n",
       "    </tr>\n",
       "  </tbody>\n",
       "</table>\n",
       "</div>"
      ],
      "text/plain": [
       "                           count       mean       std   min   50%    95%   max\n",
       "variety                                                                       \n",
       "Cabernet Sauvignon        1656.0  89.533816  3.113571  80.0  90.0  94.00  99.0\n",
       "Chardonnay                1302.0  89.609063  2.964822  81.0  90.0  94.00  98.0\n",
       "Pinot Noir                1688.0  90.146327  2.919474  80.0  90.0  94.00  98.0\n",
       "Malbec                      61.0  88.819672  3.143820  80.0  89.0  94.00  95.0\n",
       "Rhône-style Red Blend       45.0  89.488889  2.599145  85.0  90.0  94.00  94.0\n",
       "Sparkling Blend            128.0  90.523438  2.384216  85.0  90.0  94.00  98.0\n",
       "Syrah                      291.0  89.570447  2.925103  82.0  90.0  94.00  97.0\n",
       "Bordeaux-style Red Blend   220.0  89.636364  2.977012  80.0  90.0  94.00  99.0\n",
       "White Blend                 61.0  88.590164  2.900443  80.0  88.0  94.00  95.0\n",
       "Albariño                    16.0  89.625000  2.986079  82.0  90.0  94.00  94.0\n",
       "Mourvèdre                   12.0  90.333333  2.674232  86.0  90.0  93.90  95.0\n",
       "Cabernet Franc             108.0  88.537037  2.526221  83.0  88.0  93.65  94.0\n",
       "Riesling                    31.0  88.838710  2.395785  85.0  88.0  93.50  95.0\n",
       "Port                        11.0  88.454545  3.012097  85.0  87.0  93.50  94.0\n",
       "Tempranillo                 32.0  87.812500  2.945061  82.0  87.0  93.45  94.0\n",
       "Grenache                    54.0  89.277778  2.609248  81.0  90.0  93.00  96.0\n",
       "Gewürztraminer              28.0  89.821429  1.886670  87.0  90.0  93.00  94.0\n",
       "Zinfandel                  717.0  88.306834  3.078692  80.0  88.0  93.00  97.0\n",
       "Petite Sirah               172.0  88.331395  2.666788  80.0  88.0  93.00  95.0\n",
       "Red Blend                  360.0  88.136111  2.945338  80.0  88.0  93.00  95.0\n",
       "Fumé Blanc                  22.0  89.272727  2.394076  84.0  89.5  92.95  95.0\n",
       "Pinot Blanc                 12.0  87.583333  3.502164  82.0  87.5  92.45  93.0\n",
       "Merlot                     297.0  87.993266  2.799606  80.0  88.0  92.20  96.0\n",
       "Rhône-style White Blend     19.0  88.842105  1.922474  85.0  88.0  92.10  93.0\n",
       "Cabernet Blend              10.0  90.000000  1.563472  88.0  90.0  92.00  92.0\n",
       "Viognier                    65.0  88.353846  2.769424  80.0  88.0  92.00  93.0\n",
       "Chenin Blanc                22.0  88.409091  2.196514  85.0  88.0  92.00  94.0\n",
       "Moscato                     16.0  87.937500  2.568235  84.0  88.0  92.00  92.0\n",
       "Pinot Gris                  39.0  88.794872  2.214539  84.0  88.0  92.00  92.0\n",
       "Rosé                       109.0  88.321101  2.592299  80.0  88.0  92.00  94.0"
      ]
     },
     "execution_count": 49,
     "metadata": {},
     "output_type": "execute_result"
    }
   ],
   "source": [
    "def get_favs(name, min_count=10):\n",
    "    favs = df[df.taster_name == name].groupby('variety')['points'].describe(percentiles=[.95]).sort_values('95%', ascending=False)\n",
    "    return favs[favs['count'] >= min_count]\n",
    "\n",
    "get_favs(\"Virginie Boone\").head(30)"
   ]
  },
  {
   "cell_type": "code",
   "execution_count": 68,
   "metadata": {},
   "outputs": [
    {
     "data": {
      "image/png": "[encoded data removed]",
      "text/plain": [
       "<Figure size 432x288 with 1 Axes>"
      ]
     },
     "metadata": {
      "needs_background": "light"
     },
     "output_type": "display_data"
    }
   ],
   "source": [
    "df.groupby(['variety'])['points'].var().dropna().sort_values(ascending=False).head(15).plot.barh();"
   ]
  },
  {
   "cell_type": "code",
   "execution_count": 169,
   "metadata": {},
   "outputs": [
    {
     "data": {
      "text/plain": [
       "count    116973.000000\n",
       "mean         88.446539\n",
       "std           3.038423\n",
       "min          80.000000\n",
       "25%          86.000000\n",
       "50%          88.000000\n",
       "75%          91.000000\n",
       "max         100.000000\n",
       "Name: points, dtype: float64"
      ]
     },
     "execution_count": 169,
     "metadata": {},
     "output_type": "execute_result"
    }
   ],
   "source": [
    "df.points.describe()"
   ]
  },
  {
   "cell_type": "code",
   "execution_count": 15,
   "metadata": {},
   "outputs": [],
   "source": [
    "df['is_good'] = df.points > 88"
   ]
  },
  {
   "cell_type": "code",
   "execution_count": 28,
   "metadata": {},
   "outputs": [],
   "source": [
    "from sklearn import metrics\n",
    "\n",
    "from sklearn.pipeline import make_pipeline, FeatureUnion, make_union\n",
    "from sklearn.feature_extraction.text import TfidfVectorizer, CountVectorizer\n",
    "from sklearn.linear_model import SGDClassifier, SGDRegressor\n",
    "from sklearn.model_selection import train_test_split, cross_validate, GridSearchCV, cross_val_predict\n",
    "from sklearn.externals import joblib\n",
    "from sklearn.compose import ColumnTransformer, make_column_transformer\n",
    "from sklearn.impute import SimpleImputer\n",
    "from sklearn.preprocessing import StandardScaler, OneHotEncoder, FunctionTransformer\n"
   ]
  },
  {
   "cell_type": "code",
   "execution_count": 45,
   "metadata": {},
   "outputs": [],
   "source": [
    "train_df, test_df, train_labels, test_labels = train_test_split(\n",
    "    df.drop(['is_good', 'price', 'points'], axis=1), \n",
    "    df.is_good,\n",
    "    random_state=3)"
   ]
  },
  {
   "cell_type": "code",
   "execution_count": 55,
   "metadata": {},
   "outputs": [
    {
     "data": {
      "text/plain": [
       "Pipeline(memory=None,\n",
       "     steps=[('tfidfvectorizer', TfidfVectorizer(analyzer='word', binary=False, decode_error='strict',\n",
       "        dtype=<class 'numpy.float64'>, encoding='utf-8', input='content',\n",
       "        lowercase=True, max_df=1.0, max_features=None, min_df=1,\n",
       "        ngram_range=(1, 1), norm='l2', preprocessor=None, smooth...m_state=None, shuffle=True, tol=None,\n",
       "       validation_fraction=0.1, verbose=0, warm_start=False))])"
      ]
     },
     "execution_count": 55,
     "metadata": {},
     "output_type": "execute_result"
    }
   ],
   "source": [
    "model = make_pipeline(\n",
    "            TfidfVectorizer(),\n",
    "            SGDClassifier(n_jobs=-1, max_iter=1000))\n",
    "\n",
    "model.fit(train_df.description, train_labels);"
   ]
  },
  {
   "cell_type": "code",
   "execution_count": 58,
   "metadata": {},
   "outputs": [
    {
     "name": "stdout",
     "output_type": "stream",
     "text": [
      "\n",
      "Accuracy: 0.818\n",
      "              precision    recall  f1-score   support\n",
      "\n",
      "       False       0.82      0.83      0.83     15450\n",
      "        True       0.81      0.80      0.81     13794\n",
      "\n",
      "   micro avg       0.82      0.82      0.82     29244\n",
      "   macro avg       0.82      0.82      0.82     29244\n",
      "weighted avg       0.82      0.82      0.82     29244\n",
      "\n"
     ]
    }
   ],
   "source": [
    "predicted = model.predict(test_df.description)\n",
    "score = metrics.accuracy_score(test_labels, predicted)\n",
    "print('\\nAccuracy: %0.3f' % score)\n",
    "\n",
    "print(metrics.classification_report(test_labels, predicted))"
   ]
  },
  {
   "cell_type": "code",
   "execution_count": 25,
   "metadata": {},
   "outputs": [
    {
     "name": "stdout",
     "output_type": "stream",
     "text": [
      "\n",
      "Accuracy: 0.835\n",
      "              precision    recall  f1-score   support\n",
      "\n",
      "       False       0.84      0.85      0.85     15585\n",
      "        True       0.83      0.82      0.82     13659\n",
      "\n",
      "   micro avg       0.84      0.84      0.84     29244\n",
      "   macro avg       0.83      0.83      0.83     29244\n",
      "weighted avg       0.84      0.84      0.84     29244\n",
      "\n",
      "Wall time: 39.4 s\n"
     ]
    }
   ],
   "source": [
    "%%time\n",
    "\n",
    "categorical_features = ['country', 'winery']\n",
    "categorical_transformer = make_pipeline(\n",
    "    SimpleImputer(strategy='constant', fill_value='missing'),\n",
    "    OneHotEncoder(handle_unknown='ignore'))\n",
    "\n",
    "model = make_pipeline(\n",
    "            make_column_transformer(\n",
    "                ('description', TfidfVectorizer()),\n",
    "                (categorical_features, categorical_transformer),\n",
    "                (['year'], make_pipeline(\n",
    "                    SimpleImputer(strategy='median'),\n",
    "                    StandardScaler()))),\n",
    "            SGDClassifier(n_jobs=-1, max_iter=1000))\n",
    "\n",
    "model.fit(train_df, train_df.is_good)\n",
    "\n",
    "predicted = model.predict(test_df)\n",
    "\n",
    "score = metrics.accuracy_score(test_df.is_good, predicted)\n",
    "print('\\nAccuracy: %0.3f' % score)\n",
    "\n",
    "print(metrics.classification_report(test_df.is_good, predicted))"
   ]
  },
  {
   "cell_type": "code",
   "execution_count": 35,
   "metadata": {},
   "outputs": [],
   "source": [
    "def get_failures(model, X, y, cv=3):\n",
    "    predicted = cross_val_predict(model, X, y, cv=cv, n_jobs=-1)\n",
    "\n",
    "    print(\"Confusion matrix (actual x prediction):\")\n",
    "    print(metrics.confusion_matrix(y, predicted))\n",
    "\n",
    "    fn = X[(y == True) & (predicted == False)]\n",
    "    fp = X[(y == False) & (predicted == True)]\n",
    "\n",
    "    return fn, fp"
   ]
  },
  {
   "cell_type": "code",
   "execution_count": 36,
   "metadata": {},
   "outputs": [
    {
     "name": "stdout",
     "output_type": "stream",
     "text": [
      "Confusion matrix (actual x prediction):\n",
      "[[39174  7110]\n",
      " [ 7615 33830]]\n"
     ]
    }
   ],
   "source": [
    "fn, tp = get_failures(model, train_df, train_df.is_good)"
   ]
  },
  {
   "cell_type": "code",
   "execution_count": 53,
   "metadata": {},
   "outputs": [],
   "source": [
    "def evaluate(model, X, y):\n",
    "    predictions = model.predict(X)\n",
    "    score = metrics.accuracy_score(y, predictions)\n",
    "    print('\\nAccuracy: %0.3f' % score)\n",
    "\n",
    "    print(metrics.classification_report(y, predictions))"
   ]
  },
  {
   "cell_type": "code",
   "execution_count": 62,
   "metadata": {},
   "outputs": [
    {
     "name": "stdout",
     "output_type": "stream",
     "text": [
      "4.0065           2020    -3.3071         simple\n",
      "3.7578        complex    -2.5879straightforward\n",
      "3.6609           long    -2.4669          lacks\n",
      "3.4346          years    -2.2784           soft\n",
      "3.3440        through    -2.2047           easy\n",
      "3.2190      delicious    -2.0074      easygoing\n",
      "3.1742           2022    -1.9752         fruity\n",
      "3.0117         lovely    -1.9274       everyday\n",
      "2.8997      beautiful    -1.8983            bit\n",
      "2.8077        elegant    -1.8497         rustic\n",
      "2.7705    beautifully    -1.7968         bitter\n",
      "2.7102       vineyard    -1.7302           lean\n",
      "2.7024     impressive    -1.7016    dimensional\n",
      "2.6282           2025    -1.7006         little\n",
      "2.5595           rich    -1.6846         medium\n",
      "2.5511        velvety    -1.6054        flavors\n",
      "2.5387           2019    -1.5933           pair\n",
      "2.4343           2021    -1.5911           sour\n",
      "2.3281   concentrated    -1.5715           some\n",
      "2.2601      excellent    -1.5424     astringent\n"
     ]
    }
   ],
   "source": [
    "show_most_informative_features(model)"
   ]
  }
 ],
 "metadata": {
  "kernelspec": {
   "display_name": "Python [conda env:sommelier]",
   "language": "python",
   "name": "conda-env-sommelier-py"
  },
  "language_info": {
   "codemirror_mode": {
    "name": "ipython",
    "version": 3
   },
   "file_extension": ".py",
   "mimetype": "text/x-python",
   "name": "python",
   "nbconvert_exporter": "python",
   "pygments_lexer": "ipython3",
   "version": "3.6.6"
  }
 },
 "nbformat": 4,
 "nbformat_minor": 2
}
